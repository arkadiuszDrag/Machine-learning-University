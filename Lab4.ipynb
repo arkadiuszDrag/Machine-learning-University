{
  "cells": [
    {
      "cell_type": "code",
      "execution_count": null,
      "id": "7bb2899b",
      "metadata": {
        "id": "7bb2899b"
      },
      "outputs": [],
      "source": [
        "import pandas as pd\n",
        "import numpy as np\n",
        "import seaborn as sns\n",
        "import matplotlib.pyplot as plt"
      ]
    },
    {
      "cell_type": "code",
      "execution_count": null,
      "id": "67b436d7",
      "metadata": {
        "id": "67b436d7"
      },
      "outputs": [],
      "source": [
        "X_train = pd.read_csv('titanic_X_train.csv')\n",
        "X_test = pd.read_csv('titanic_X_test.csv')\n",
        "y_train = pd.read_csv('titanic_y_train.csv')\n",
        "y_test = pd.read_csv('titanic_y_test.csv')"
      ]
    },
    {
      "cell_type": "code",
      "execution_count": null,
      "id": "99c6ac81",
      "metadata": {
        "id": "99c6ac81",
        "outputId": "d07a125e-86c1-4bd9-b185-b25c59599cb9"
      },
      "outputs": [
        {
          "data": {
            "text/html": [
              "<div>\n",
              "<style scoped>\n",
              "    .dataframe tbody tr th:only-of-type {\n",
              "        vertical-align: middle;\n",
              "    }\n",
              "\n",
              "    .dataframe tbody tr th {\n",
              "        vertical-align: top;\n",
              "    }\n",
              "\n",
              "    .dataframe thead th {\n",
              "        text-align: right;\n",
              "    }\n",
              "</style>\n",
              "<table border=\"1\" class=\"dataframe\">\n",
              "  <thead>\n",
              "    <tr style=\"text-align: right;\">\n",
              "      <th></th>\n",
              "      <th>cabin</th>\n",
              "      <th>CabinReduced</th>\n",
              "      <th>sex</th>\n",
              "      <th>cabin_map</th>\n",
              "      <th>CabinReduced_map</th>\n",
              "      <th>sex_map</th>\n",
              "    </tr>\n",
              "  </thead>\n",
              "  <tbody>\n",
              "    <tr>\n",
              "      <th>0</th>\n",
              "      <td>0</td>\n",
              "      <td>0</td>\n",
              "      <td>0</td>\n",
              "      <td>0</td>\n",
              "      <td>0</td>\n",
              "      <td>0</td>\n",
              "    </tr>\n",
              "    <tr>\n",
              "      <th>1</th>\n",
              "      <td>0</td>\n",
              "      <td>0</td>\n",
              "      <td>0</td>\n",
              "      <td>0</td>\n",
              "      <td>0</td>\n",
              "      <td>0</td>\n",
              "    </tr>\n",
              "    <tr>\n",
              "      <th>2</th>\n",
              "      <td>0</td>\n",
              "      <td>0</td>\n",
              "      <td>0</td>\n",
              "      <td>0</td>\n",
              "      <td>0</td>\n",
              "      <td>0</td>\n",
              "    </tr>\n",
              "    <tr>\n",
              "      <th>3</th>\n",
              "      <td>0</td>\n",
              "      <td>0</td>\n",
              "      <td>0</td>\n",
              "      <td>0</td>\n",
              "      <td>0</td>\n",
              "      <td>0</td>\n",
              "    </tr>\n",
              "    <tr>\n",
              "      <th>4</th>\n",
              "      <td>0</td>\n",
              "      <td>0</td>\n",
              "      <td>0</td>\n",
              "      <td>0</td>\n",
              "      <td>0</td>\n",
              "      <td>0</td>\n",
              "    </tr>\n",
              "    <tr>\n",
              "      <th>5</th>\n",
              "      <td>0</td>\n",
              "      <td>0</td>\n",
              "      <td>0</td>\n",
              "      <td>0</td>\n",
              "      <td>0</td>\n",
              "      <td>0</td>\n",
              "    </tr>\n",
              "    <tr>\n",
              "      <th>6</th>\n",
              "      <td>E36</td>\n",
              "      <td>E</td>\n",
              "      <td>female</td>\n",
              "      <td>1</td>\n",
              "      <td>1</td>\n",
              "      <td>0</td>\n",
              "    </tr>\n",
              "    <tr>\n",
              "      <th>7</th>\n",
              "      <td>0</td>\n",
              "      <td>0</td>\n",
              "      <td>0</td>\n",
              "      <td>0</td>\n",
              "      <td>0</td>\n",
              "      <td>0</td>\n",
              "    </tr>\n",
              "    <tr>\n",
              "      <th>8</th>\n",
              "      <td>C68</td>\n",
              "      <td>C</td>\n",
              "      <td>male</td>\n",
              "      <td>2</td>\n",
              "      <td>2</td>\n",
              "      <td>1</td>\n",
              "    </tr>\n",
              "    <tr>\n",
              "      <th>9</th>\n",
              "      <td>E24</td>\n",
              "      <td>E</td>\n",
              "      <td>male</td>\n",
              "      <td>3</td>\n",
              "      <td>1</td>\n",
              "      <td>1</td>\n",
              "    </tr>\n",
              "  </tbody>\n",
              "</table>\n",
              "</div>"
            ],
            "text/plain": [
              "  cabin CabinReduced     sex  cabin_map  CabinReduced_map  sex_map\n",
              "0     0            0       0          0                 0        0\n",
              "1     0            0       0          0                 0        0\n",
              "2     0            0       0          0                 0        0\n",
              "3     0            0       0          0                 0        0\n",
              "4     0            0       0          0                 0        0\n",
              "5     0            0       0          0                 0        0\n",
              "6   E36            E  female          1                 1        0\n",
              "7     0            0       0          0                 0        0\n",
              "8   C68            C    male          2                 2        1\n",
              "9   E24            E    male          3                 1        1"
            ]
          },
          "execution_count": 67,
          "metadata": {},
          "output_type": "execute_result"
        }
      ],
      "source": [
        "X_train.head(10)"
      ]
    },
    {
      "cell_type": "markdown",
      "id": "05817e3b",
      "metadata": {
        "id": "05817e3b"
      },
      "source": [
        "# RandomForestClassifier\n",
        "\n",
        "This is meta estimator that fits a number of decision tree classifiers on various sub-samples and averages to improve the predictive accuracy and control over-fitting."
      ]
    },
    {
      "cell_type": "code",
      "execution_count": null,
      "id": "ee3899ef",
      "metadata": {
        "id": "ee3899ef",
        "outputId": "d2339364-e453-41fb-fac7-210cb7c2aa8c"
      },
      "outputs": [
        {
          "data": {
            "text/plain": [
              "(916, 1)"
            ]
          },
          "execution_count": 57,
          "metadata": {},
          "output_type": "execute_result"
        }
      ],
      "source": [
        "y_train.shape"
      ]
    },
    {
      "cell_type": "code",
      "execution_count": null,
      "id": "f1cdd5d3",
      "metadata": {
        "id": "f1cdd5d3"
      },
      "outputs": [],
      "source": [
        "from sklearn.ensemble import RandomForestClassifier\n",
        "\n",
        "#Making model\n",
        "rf_clf = RandomForestClassifier(n_estimators=200, random_state=42)\n",
        "\n",
        "#Training model\n",
        "rf_clf.fit(X_train[['CabinReduced_map', 'sex_map', 'cabin_map']], np.ravel(y_train))\n",
        "\n",
        "#Prediction\n",
        "pred_train = rf_clf.predict_proba(X_train[['CabinReduced_map', 'sex_map', 'cabin_map']])\n",
        "pred_test = rf_clf.predict_proba(X_test[['CabinReduced_map', 'sex_map', 'cabin_map']])"
      ]
    },
    {
      "cell_type": "code",
      "execution_count": null,
      "id": "18b9e265",
      "metadata": {
        "id": "18b9e265"
      },
      "outputs": [],
      "source": [
        "y_scores_train = pred_train[:, 1]\n",
        "y_scores_test = pred_test[:, 1]"
      ]
    },
    {
      "cell_type": "markdown",
      "id": "b4f8e548",
      "metadata": {
        "id": "b4f8e548"
      },
      "source": [
        "### Scores\n",
        "As an input to roc_auc_score we take an array of the likelihood of belonging each sample to positive class (survived)"
      ]
    },
    {
      "cell_type": "code",
      "execution_count": null,
      "id": "382a9cb9",
      "metadata": {
        "id": "382a9cb9",
        "outputId": "fce1843e-1e1e-411a-d274-22c436217e88"
      },
      "outputs": [
        {
          "name": "stdout",
          "output_type": "stream",
          "text": [
            "Train roc_auc_score score: 0.7221078902480138 \n",
            "Test roc_auc_score score: 0.4895332116586472 \n"
          ]
        }
      ],
      "source": [
        "from sklearn.metrics import roc_auc_score\n",
        "\n",
        "print(\"Train roc_auc_score score: {} \".format(roc_auc_score(y_train, y_scores_train)))\n",
        "print(\"Test roc_auc_score score: {} \".format(roc_auc_score(y_test, y_scores_test)))"
      ]
    },
    {
      "cell_type": "markdown",
      "id": "bd1f08a7",
      "metadata": {
        "id": "bd1f08a7"
      },
      "source": [
        "## 1 classes multiclasses classifier"
      ]
    },
    {
      "cell_type": "code",
      "execution_count": null,
      "id": "d944c481",
      "metadata": {
        "id": "d944c481"
      },
      "outputs": [],
      "source": [
        "#Making model\n",
        "rf_clf1 = RandomForestClassifier(n_estimators=200, random_state=42)\n",
        "\n",
        "#Training model\n",
        "rf_clf1.fit(X_train[['CabinReduced_map']], np.ravel(y_train))\n",
        "\n",
        "#Prediction\n",
        "pred_train1 = rf_clf1.predict_proba(X_train[['CabinReduced_map']])\n",
        "pred_test1 = rf_clf1.predict_proba(X_test[['CabinReduced_map']])"
      ]
    },
    {
      "cell_type": "code",
      "execution_count": null,
      "id": "061d28d8",
      "metadata": {
        "id": "061d28d8"
      },
      "outputs": [],
      "source": [
        "y_scores_train1 = pred_train1[:, 1]\n",
        "y_scores_test1 = pred_test1[:, 1]"
      ]
    },
    {
      "cell_type": "markdown",
      "id": "adabc689",
      "metadata": {
        "id": "adabc689"
      },
      "source": [
        "### Scores"
      ]
    },
    {
      "cell_type": "code",
      "execution_count": null,
      "id": "148ef28a",
      "metadata": {
        "id": "148ef28a",
        "outputId": "70e00729-9e35-49c0-e46f-01150432e370"
      },
      "outputs": [
        {
          "name": "stdout",
          "output_type": "stream",
          "text": [
            "Train roc_auc_score score: 0.6372679745797251 \n",
            "Test roc_auc_score score: 0.5880897074276865 \n"
          ]
        }
      ],
      "source": [
        "print(\"Train roc_auc_score score: {} \".format(roc_auc_score(y_train, y_scores_train1)))\n",
        "print(\"Test roc_auc_score score: {} \".format(roc_auc_score(y_test, y_scores_test1)))"
      ]
    },
    {
      "cell_type": "markdown",
      "id": "92ddaf26",
      "metadata": {
        "id": "92ddaf26"
      },
      "source": [
        "We can see that our classifier trained on data with fewer features has a worse result for training data than the second model and a better result for the test data, so we can say that our model with more features overfitted to train data cause it was too detailed."
      ]
    },
    {
      "cell_type": "markdown",
      "id": "447cb052",
      "metadata": {
        "id": "447cb052"
      },
      "source": [
        "## LogisticRegression\n",
        "In the multiclass case, the training algorithm uses the one-vs-rest (OvR) scheme if the ‘multi_class’ option is set to ‘ovr’, and uses the cross-entropy loss if the ‘multi_class’ option is set to ‘multinomial’. This class implements regularized logistic regression using the ‘liblinear’ library, ‘newton-cg’, ‘sag’, ‘saga’ and ‘lbfgs’ solvers. Note that regularization is applied by default. It can handle both dense and sparse input."
      ]
    },
    {
      "cell_type": "code",
      "execution_count": null,
      "id": "50b38570",
      "metadata": {
        "id": "50b38570"
      },
      "outputs": [],
      "source": [
        "from sklearn.linear_model import LogisticRegression\n",
        "\n",
        "#Making model\n",
        "lr_clf = LogisticRegression(random_state=42)\n",
        "\n",
        "#Training model\n",
        "lr_clf.fit(X_train[['CabinReduced_map', 'sex_map', 'cabin_map']], np.ravel(y_train))\n",
        "\n",
        "#Prediction\n",
        "y_pred_train = lr_clf.predict(X_train[['CabinReduced_map', 'sex_map', 'cabin_map']])\n",
        "y_pred_test = lr_clf.predict(X_test[['CabinReduced_map', 'sex_map', 'cabin_map']])"
      ]
    },
    {
      "cell_type": "markdown",
      "id": "dd7be262",
      "metadata": {
        "id": "dd7be262"
      },
      "source": [
        "### Scores for 3 classes multiclasses classifier"
      ]
    },
    {
      "cell_type": "code",
      "execution_count": null,
      "id": "5c13cc39",
      "metadata": {
        "id": "5c13cc39",
        "outputId": "79fe0a38-d2e1-4b1e-c86e-51082a60454b"
      },
      "outputs": [
        {
          "name": "stdout",
          "output_type": "stream",
          "text": [
            "Train roc_auc_score score: 0.6286360502971233 \n",
            "Test roc_auc_score score: 0.5403600464576075 \n"
          ]
        }
      ],
      "source": [
        "print(\"Train roc_auc_score score: {} \".format(roc_auc_score(y_train, y_pred_train)))\n",
        "print(\"Test roc_auc_score score: {} \".format(roc_auc_score(y_test, y_pred_test)))"
      ]
    },
    {
      "cell_type": "markdown",
      "id": "ff891a2a",
      "metadata": {
        "id": "ff891a2a"
      },
      "source": [
        "## 3 classes multiclasses classifier"
      ]
    },
    {
      "cell_type": "code",
      "execution_count": null,
      "id": "3267f35d",
      "metadata": {
        "id": "3267f35d"
      },
      "outputs": [],
      "source": [
        "#Making model\n",
        "lr_clf1 = LogisticRegression(random_state=42)\n",
        "\n",
        "#Training model\n",
        "lr_clf1.fit(X_train[['cabin_map']], np.ravel(y_train))\n",
        "\n",
        "#Prediction\n",
        "y_pred_train1 = lr_clf1.predict(X_train[['cabin_map']])\n",
        "y_pred_test1 = lr_clf1.predict(X_test[['cabin_map']])"
      ]
    },
    {
      "cell_type": "code",
      "execution_count": null,
      "id": "548cb2b2",
      "metadata": {
        "id": "548cb2b2",
        "outputId": "7e44fcb3-8b66-4072-b615-080f032eaa34"
      },
      "outputs": [
        {
          "name": "stdout",
          "output_type": "stream",
          "text": [
            "Train roc_auc_score score: 0.578824488399358 \n",
            "Test roc_auc_score score: 0.5340965654554504 \n"
          ]
        }
      ],
      "source": [
        "print(\"Train roc_auc_score score: {} \".format(roc_auc_score(y_train, y_pred_train1)))\n",
        "print(\"Test roc_auc_score score: {} \".format(roc_auc_score(y_test, y_pred_test1)))"
      ]
    },
    {
      "cell_type": "markdown",
      "id": "bc9c5393",
      "metadata": {
        "id": "bc9c5393"
      },
      "source": [
        "# GradientBoostingClassifier\n",
        "\n",
        "GB builds an additive model in a forward stage-wise fashion; it allows for the optimization of arbitrary differentiable loss functions. In each stage n_classes_ regression trees are fit on the negative gradient of the binomial or multinomial deviance loss function. Binary classification is a special case where only a single regression tree is induced."
      ]
    },
    {
      "cell_type": "code",
      "execution_count": null,
      "id": "8acf9bf2",
      "metadata": {
        "id": "8acf9bf2"
      },
      "outputs": [],
      "source": [
        "from sklearn.ensemble import GradientBoostingClassifier\n",
        "\n",
        "#Making model\n",
        "gb_clf = GradientBoostingClassifier(n_estimators = 200, random_state=42)\n",
        "\n",
        "#Training model\n",
        "gb_clf.fit(X_train[['CabinReduced_map', 'sex_map', 'cabin_map']], np.ravel(y_train))\n",
        "\n",
        "#Prediction\n",
        "pred_train_gb = gb_clf.predict_proba(X_train[['CabinReduced_map', 'sex_map', 'cabin_map']])\n",
        "pred_test_gb = gb_clf.predict_proba(X_test[['CabinReduced_map', 'sex_map', 'cabin_map']])"
      ]
    },
    {
      "cell_type": "code",
      "execution_count": null,
      "id": "291c301a",
      "metadata": {
        "id": "291c301a"
      },
      "outputs": [],
      "source": [
        "y_scores_train_gb = pred_train_gb[:, 1]\n",
        "y_scores_test_gb = pred_test_gb[:, 1]"
      ]
    },
    {
      "cell_type": "code",
      "execution_count": null,
      "id": "cd2b12ca",
      "metadata": {
        "id": "cd2b12ca",
        "outputId": "ce4e5647-9eb2-478d-e1a5-faf6f615931c"
      },
      "outputs": [
        {
          "name": "stdout",
          "output_type": "stream",
          "text": [
            "Train roc_auc_score score: 0.7296303191623185 \n",
            "Test roc_auc_score score: 0.4765637962502074 \n"
          ]
        }
      ],
      "source": [
        "print(\"Train roc_auc_score score: {} \".format(roc_auc_score(y_train, y_scores_train_gb)))\n",
        "print(\"Test roc_auc_score score: {} \".format(roc_auc_score(y_test, y_scores_test_gb)))"
      ]
    },
    {
      "cell_type": "code",
      "execution_count": null,
      "id": "ced35e76",
      "metadata": {
        "id": "ced35e76"
      },
      "outputs": [],
      "source": [
        "#Making model\n",
        "gb_clf1 = GradientBoostingClassifier(n_estimators = 200, random_state=42)\n",
        "\n",
        "#Training model\n",
        "gb_clf1.fit(X_train[['cabin_map']], np.ravel(y_train))\n",
        "\n",
        "#Prediction\n",
        "pred_train_gb1 = gb_clf1.predict_proba(X_train[['cabin_map']])\n",
        "pred_test_gb1 = gb_clf1.predict_proba(X_test[['cabin_map']])"
      ]
    },
    {
      "cell_type": "code",
      "execution_count": null,
      "id": "ebc5536a",
      "metadata": {
        "id": "ebc5536a"
      },
      "outputs": [],
      "source": [
        "y_scores_train_gb1 = pred_train_gb1[:, 1]\n",
        "y_scores_test_gb1 = pred_test_gb1[:, 1]"
      ]
    },
    {
      "cell_type": "code",
      "execution_count": null,
      "id": "5234453a",
      "metadata": {
        "scrolled": true,
        "id": "5234453a",
        "outputId": "6468ef49-7045-44b8-c1dc-7ab8f76ac216"
      },
      "outputs": [
        {
          "name": "stdout",
          "output_type": "stream",
          "text": [
            "Train roc_auc_score score: 0.7038452442650913 \n",
            "Test roc_auc_score score: 0.563395276809911 \n"
          ]
        }
      ],
      "source": [
        "print(\"Train roc_auc_score score: {} \".format(roc_auc_score(y_train, y_scores_train_gb1)))\n",
        "print(\"Test roc_auc_score score: {} \".format(roc_auc_score(y_test, y_scores_test_gb1)))"
      ]
    },
    {
      "cell_type": "markdown",
      "id": "25089bd4",
      "metadata": {
        "id": "25089bd4"
      },
      "source": [
        "# AdaBoostClassifier\n",
        "An AdaBoost classifier is a meta-estimator that begins by fitting a classifier on the original dataset and then fits additional copies of the classifier on the same dataset but where the weights of incorrectly classified instances are adjusted such that subsequent classifiers focus more on difficult cases."
      ]
    },
    {
      "cell_type": "code",
      "execution_count": null,
      "id": "0e35a430",
      "metadata": {
        "id": "0e35a430"
      },
      "outputs": [],
      "source": [
        "from sklearn.ensemble import AdaBoostClassifier\n",
        "\n",
        "#Making model\n",
        "ada_clf = AdaBoostClassifier(n_estimators = 200, random_state=42)\n",
        "\n",
        "#Training model\n",
        "ada_clf.fit(X_train[['CabinReduced_map', 'sex_map', 'cabin_map']], np.ravel(y_train))\n",
        "\n",
        "#Prediction\n",
        "pred_train_ada = ada_clf.predict_proba(X_train[['CabinReduced_map', 'sex_map', 'cabin_map']])\n",
        "pred_test_ada = ada_clf.predict_proba(X_test[['CabinReduced_map', 'sex_map', 'cabin_map']])"
      ]
    },
    {
      "cell_type": "code",
      "execution_count": null,
      "id": "2d140bb2",
      "metadata": {
        "id": "2d140bb2"
      },
      "outputs": [],
      "source": [
        "y_scores_train_ada = pred_train_ada[:, 1]\n",
        "y_scores_test_ada = pred_test_ada[:, 1]"
      ]
    },
    {
      "cell_type": "code",
      "execution_count": null,
      "id": "2de4e8c7",
      "metadata": {
        "id": "2de4e8c7",
        "outputId": "e8af81d3-9025-4011-d869-0e17d4c5b365"
      },
      "outputs": [
        {
          "name": "stdout",
          "output_type": "stream",
          "text": [
            "Train roc_auc_score score: 0.6909992502729709 \n",
            "Test roc_auc_score score: 0.4918422653614291 \n"
          ]
        }
      ],
      "source": [
        "print(\"Train roc_auc_score score: {} \".format(roc_auc_score(y_train, y_scores_train_ada)))\n",
        "print(\"Test roc_auc_score score: {} \".format(roc_auc_score(y_test, y_scores_test_ada)))"
      ]
    },
    {
      "cell_type": "code",
      "execution_count": null,
      "id": "cc2e07f4",
      "metadata": {
        "id": "cc2e07f4"
      },
      "outputs": [],
      "source": [
        "#Making model\n",
        "ada_clf1 = AdaBoostClassifier(n_estimators = 200, random_state=42)\n",
        "\n",
        "#Training model\n",
        "ada_clf1.fit(X_train[['cabin_map']], np.ravel(y_train))\n",
        "\n",
        "#Prediction\n",
        "pred_train_ada1 = ada_clf1.predict_proba(X_train[['cabin_map']])\n",
        "pred_test_ada1 = ada_clf1.predict_proba(X_test[['cabin_map']])"
      ]
    },
    {
      "cell_type": "code",
      "execution_count": null,
      "id": "d1cdc5df",
      "metadata": {
        "id": "d1cdc5df"
      },
      "outputs": [],
      "source": [
        "y_scores_train_ada1 = pred_train_ada1[:, 1]\n",
        "y_scores_test_ada1 = pred_test_ada1[:, 1]"
      ]
    },
    {
      "cell_type": "code",
      "execution_count": null,
      "id": "5db1abbd",
      "metadata": {
        "id": "5db1abbd",
        "outputId": "966f900e-c7f4-4e5c-8624-f29f2fa58931"
      },
      "outputs": [
        {
          "name": "stdout",
          "output_type": "stream",
          "text": [
            "Train roc_auc_score score: 0.6549419087345715 \n",
            "Test roc_auc_score score: 0.6276616337591948 \n"
          ]
        }
      ],
      "source": [
        "print(\"Train roc_auc_score score: {} \".format(roc_auc_score(y_train, y_scores_train_ada1)))\n",
        "print(\"Test roc_auc_score score: {} \".format(roc_auc_score(y_test, y_scores_test_ada1)))"
      ]
    },
    {
      "cell_type": "markdown",
      "id": "ce3d7026",
      "metadata": {
        "id": "ce3d7026"
      },
      "source": [
        "# Models comarison\n",
        "The roc auc score shows us that the best model in our case is AdaBoostClassifier with a small number of features which had the best predictions for the new data. The most overfitted model in our models examination is RandomForestClassifier."
      ]
    },
    {
      "cell_type": "markdown",
      "id": "2037be46",
      "metadata": {
        "id": "2037be46"
      },
      "source": [
        "# Difference between predict and predict_proba\n",
        "\n",
        "predict() method that can be executed on a trained model in order to predict the actual label (or class) over a new set of data.\n",
        "\n",
        "predict_proba() method that returns the class probabilities for each data point."
      ]
    }
  ],
  "metadata": {
    "kernelspec": {
      "display_name": "Python 3 (ipykernel)",
      "language": "python",
      "name": "python3"
    },
    "language_info": {
      "codemirror_mode": {
        "name": "ipython",
        "version": 3
      },
      "file_extension": ".py",
      "mimetype": "text/x-python",
      "name": "python",
      "nbconvert_exporter": "python",
      "pygments_lexer": "ipython3",
      "version": "3.9.11"
    },
    "colab": {
      "name": "Lab4.ipynb",
      "provenance": [],
      "collapsed_sections": []
    }
  },
  "nbformat": 4,
  "nbformat_minor": 5
}