{
 "cells": [
  {
   "cell_type": "code",
   "execution_count": 20,
   "id": "4712c811",
   "metadata": {},
   "outputs": [],
   "source": [
    "import pandas as pd\n",
    "import numpy as np"
   ]
  },
  {
   "cell_type": "code",
   "execution_count": 21,
   "id": "e3345852",
   "metadata": {},
   "outputs": [],
   "source": [
    "df = pd.read_csv('titanic_1.csv')"
   ]
  },
  {
   "cell_type": "markdown",
   "id": "b7409ede",
   "metadata": {},
   "source": [
    "Funkcja train_test_split dzieli losowo nasz zbior danych na zbior treningowy, za pomoca ktorego budujemy nasz model predyckcyjny, zas zbior testowy powinien zostac 'ukryty' dla naszego modelu do ostatecznych ewaluacji modelu. "
   ]
  },
  {
   "cell_type": "code",
   "execution_count": 22,
   "id": "086118f8",
   "metadata": {},
   "outputs": [],
   "source": [
    "col_name = ['cabin', 'CabinReduced', 'sex']"
   ]
  },
  {
   "cell_type": "code",
   "execution_count": 23,
   "id": "a807e7c3",
   "metadata": {},
   "outputs": [
    {
     "ename": "TypeError",
     "evalue": "'tuple' object is not callable",
     "output_type": "error",
     "traceback": [
      "\u001b[0;31m---------------------------------------------------------------------------\u001b[0m",
      "\u001b[0;31mTypeError\u001b[0m                                 Traceback (most recent call last)",
      "Input \u001b[0;32mIn [23]\u001b[0m, in \u001b[0;36m<cell line: 11>\u001b[0;34m()\u001b[0m\n\u001b[1;32m      6\u001b[0m X_train, X_test, y_train, y_test \u001b[38;5;241m=\u001b[39m train_test_split(X, y, test_size\u001b[38;5;241m=\u001b[39m\u001b[38;5;241m0.3\u001b[39m, random_state\u001b[38;5;241m=\u001b[39m\u001b[38;5;241m0\u001b[39m)\n\u001b[1;32m      9\u001b[0m \u001b[38;5;66;03m#print(\"Shapes - X_train: {}, X_test: {}, y_train: {}, y_test: {}\".format(X_train.shape(), X_test.shape(), y_train.shape(), y_test.shape()))\u001b[39;00m\n\u001b[0;32m---> 11\u001b[0m \u001b[43mX_train\u001b[49m\u001b[38;5;241;43m.\u001b[39;49m\u001b[43mshape\u001b[49m\u001b[43m(\u001b[49m\u001b[43m)\u001b[49m\n",
      "\u001b[0;31mTypeError\u001b[0m: 'tuple' object is not callable"
     ]
    }
   ],
   "source": [
    "from sklearn.model_selection import train_test_split\n",
    "\n",
    "X = df[col_name]\n",
    "y = df['survived']\n",
    "\n",
    "X_train, X_test, y_train, y_test = train_test_split(X, y, test_size=0.3, random_state=0)\n",
    "\n",
    "\n",
    "#print(\"Shapes - X_train: {}, X_test: {}, y_train: {}, y_test: {}\".format(X_train.shape(), X_test.shape(), y_train.shape(), y_test.shape()))\n",
    "\n",
    "X_train.shape()\n"
   ]
  },
  {
   "cell_type": "code",
   "execution_count": 24,
   "id": "5ef27ed6",
   "metadata": {},
   "outputs": [
    {
     "name": "stdout",
     "output_type": "stream",
     "text": [
      "Dla kolumny cabin jest 37\n",
      "Dla kolumny CabinReduced jest 0\n",
      "Dla kolumny sex jest 0\n"
     ]
    }
   ],
   "source": [
    "for i in col_name:\n",
    "    Unique_test = [x for x in X_test[i].unique() if x not in X_train[i].unique()] \n",
    "    print(\"Dla kolumny {} jest {}\".format(i,len(Unique_test)))\n"
   ]
  },
  {
   "cell_type": "code",
   "execution_count": 25,
   "id": "a0c3de61",
   "metadata": {},
   "outputs": [],
   "source": [
    "def VarCoding(list):\n",
    "    coding_dict = dict()\n",
    "    for count, category in enumerate(list.unique()):\n",
    "        coding_dict[category] = count\n",
    "    return coding_dict"
   ]
  },
  {
   "cell_type": "code",
   "execution_count": 29,
   "id": "80705319",
   "metadata": {},
   "outputs": [],
   "source": [
    "for i in col_name:\n",
    "    coding = VarCoding(X_train[i])\n",
    "    X_train[i + '_map'] = X_train[i].map(coding)\n",
    "    \n",
    "for i in col_name:\n",
    "    coding = VarCoding(X_test[i])\n",
    "    X_test[i + '_map'] = X_test[i].map(coding)"
   ]
  },
  {
   "cell_type": "code",
   "execution_count": 33,
   "id": "d30fa7e9",
   "metadata": {},
   "outputs": [
    {
     "data": {
      "text/plain": [
       "cabin               702\n",
       "CabinReduced          0\n",
       "sex                   0\n",
       "cabin_map             0\n",
       "CabinReduced_map      0\n",
       "sex_map               0\n",
       "dtype: int64"
      ]
     },
     "execution_count": 33,
     "metadata": {},
     "output_type": "execute_result"
    }
   ],
   "source": [
    "X_train.isnull().sum()"
   ]
  },
  {
   "cell_type": "code",
   "execution_count": 32,
   "id": "7d9ed187",
   "metadata": {},
   "outputs": [
    {
     "data": {
      "text/plain": [
       "cabin               312\n",
       "CabinReduced          0\n",
       "sex                   0\n",
       "cabin_map             0\n",
       "CabinReduced_map      0\n",
       "sex_map               0\n",
       "dtype: int64"
      ]
     },
     "execution_count": 32,
     "metadata": {},
     "output_type": "execute_result"
    }
   ],
   "source": [
    "X_test.isnull().sum()"
   ]
  },
  {
   "cell_type": "markdown",
   "id": "765ac1dd",
   "metadata": {},
   "source": [
    "Teraz jedynie w kolumnie cabin posiadamy brakujace wartosci, poniwaz poprzez zakodowanie wartosci tej zmiennej kategorycznej przypisalismy wartosc 0 wszystkim nullom z kolumny cabin, a w kolumnie CabinReduced mamy teraz zamiast brakujacych wartosci Nan litery n."
   ]
  },
  {
   "cell_type": "code",
   "execution_count": 40,
   "id": "a1b65f23",
   "metadata": {},
   "outputs": [
    {
     "data": {
      "text/plain": [
       "cabin               0\n",
       "CabinReduced        0\n",
       "sex                 0\n",
       "cabin_map           0\n",
       "CabinReduced_map    0\n",
       "sex_map             0\n",
       "dtype: int64"
      ]
     },
     "execution_count": 40,
     "metadata": {},
     "output_type": "execute_result"
    }
   ],
   "source": [
    "mask_null_train = X_train['cabin'].isnull()\n",
    "X_train[mask_null] = 0\n",
    "X_train.isnull().sum()"
   ]
  },
  {
   "cell_type": "code",
   "execution_count": 41,
   "id": "8b1be91f",
   "metadata": {},
   "outputs": [
    {
     "data": {
      "text/plain": [
       "cabin               0\n",
       "CabinReduced        0\n",
       "sex                 0\n",
       "cabin_map           0\n",
       "CabinReduced_map    0\n",
       "sex_map             0\n",
       "dtype: int64"
      ]
     },
     "execution_count": 41,
     "metadata": {},
     "output_type": "execute_result"
    }
   ],
   "source": [
    "mask_null_test = X_test['cabin'].isnull()\n",
    "X_test[mask_null_test] = 0\n",
    "\n",
    "X_test.isnull().sum()"
   ]
  },
  {
   "cell_type": "markdown",
   "id": "a8f1c6e7",
   "metadata": {},
   "source": [
    "Prawdopodobnie zastapienie brakujacych wartosci jako 0 jest najlepszym rozwiazaniem ze wzgledu na to, ze nasze brakujace wartosci z tej kolumny nie sa przypadkowe dlatego nie chcemy sie ich pozbywac, a modele uczenia nie obsluguja brakujacych wartosci."
   ]
  },
  {
   "cell_type": "code",
   "execution_count": 54,
   "id": "fe289542",
   "metadata": {},
   "outputs": [
    {
     "ename": "SyntaxError",
     "evalue": "unexpected EOF while parsing (1302814331.py, line 5)",
     "output_type": "error",
     "traceback": [
      "\u001b[0;36m  Input \u001b[0;32mIn [54]\u001b[0;36m\u001b[0m\n\u001b[0;31m    \u001b[0m\n\u001b[0m    ^\u001b[0m\n\u001b[0;31mSyntaxError\u001b[0m\u001b[0;31m:\u001b[0m unexpected EOF while parsing\n"
     ]
    }
   ],
   "source": [
    "print('Liczba unikalnych wartosci dla zbioru treningowego dla kolumny CabinReduced {}\\nLiczba unikalnych wartosci dla zbioru testowego dla kolumny CabinReduced {}\\n\\nLiczba unikalnych wartosci dla zbioru treningowego dla kolumny cabin_map {}\\nLiczba unikalnych wartosci dla zbioru testowego dla kolumny cabin_map {}\\n\\nLiczba unikalnych wartosci dla zbioru treningowego dla kolumny CabinReduced_map {}\\nLiczba unikalnych wartosci dla zbioru testowego dla kolumny CabinReduced_map {}'\n",
    "      .format(len(X_train['CabinReduced'].unique()), len(X_test['CabinReduced'].unique()),\n",
    "             len(X_train['cabin_map'].unique()), len(X_test['cabin_map'].unique()),\n",
    "             len(X_train['CabinReduced_mao'].unique()), len(X_test['CabinReduced_map'].unique()))\n",
    "\n"
   ]
  },
  {
   "cell_type": "markdown",
   "id": "46f4e300",
   "metadata": {},
   "source": [
    "Redukcja przyniosla nam bardzo duza roznice pomiedzy orginalna wersja kolumny cabin a ta kolumna po redukcji. Dzieki temu w zbiorze testowym posiadamy wszystkie kategorie, ktore wystepuja w zbiorze testowym. Dzieki tej operacji jestesmy w stanie wytrenowac wystarczajaco nasz model na kazdej z kategorii i nasz model bedzie lepiej wykonywal predykcje, oraz bedzie on lepiej dopasowywal sie do nowych/nieznanych danych. "
   ]
  }
 ],
 "metadata": {
  "kernelspec": {
   "display_name": "Python 3 (ipykernel)",
   "language": "python",
   "name": "python3"
  },
  "language_info": {
   "codemirror_mode": {
    "name": "ipython",
    "version": 3
   },
   "file_extension": ".py",
   "mimetype": "text/x-python",
   "name": "python",
   "nbconvert_exporter": "python",
   "pygments_lexer": "ipython3",
   "version": "3.9.11"
  }
 },
 "nbformat": 4,
 "nbformat_minor": 5
}
